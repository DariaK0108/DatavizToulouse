{
 "cells": [
  {
   "cell_type": "code",
   "execution_count": 2,
   "metadata": {},
   "outputs": [],
   "source": [
    "import pandas as pd\n",
    "import numpy as np"
   ]
  },
  {
   "cell_type": "code",
   "execution_count": 3,
   "metadata": {},
   "outputs": [
    {
     "data": {
      "text/html": [
       "<div>\n",
       "<style scoped>\n",
       "    .dataframe tbody tr th:only-of-type {\n",
       "        vertical-align: middle;\n",
       "    }\n",
       "\n",
       "    .dataframe tbody tr th {\n",
       "        vertical-align: top;\n",
       "    }\n",
       "\n",
       "    .dataframe thead th {\n",
       "        text-align: right;\n",
       "    }\n",
       "</style>\n",
       "<table border=\"1\" class=\"dataframe\">\n",
       "  <thead>\n",
       "    <tr style=\"text-align: right;\">\n",
       "      <th></th>\n",
       "      <th>Apple</th>\n",
       "      <th>Banana</th>\n",
       "      <th>Cherry</th>\n",
       "      <th>Total</th>\n",
       "    </tr>\n",
       "  </thead>\n",
       "  <tbody>\n",
       "    <tr>\n",
       "      <th>2018</th>\n",
       "      <td>75</td>\n",
       "      <td>35</td>\n",
       "      <td>80</td>\n",
       "      <td>230</td>\n",
       "    </tr>\n",
       "    <tr>\n",
       "      <th>2019</th>\n",
       "      <td>110</td>\n",
       "      <td>43</td>\n",
       "      <td>80</td>\n",
       "      <td>260</td>\n",
       "    </tr>\n",
       "  </tbody>\n",
       "</table>\n",
       "</div>"
      ],
      "text/plain": [
       "      Apple  Banana  Cherry  Total\n",
       "2018     75      35      80    230\n",
       "2019    110      43      80    260"
      ]
     },
     "execution_count": 3,
     "metadata": {},
     "output_type": "execute_result"
    }
   ],
   "source": [
    "Marche = {'Apple':[75,110], 'Banana':[35,43], 'Cherry':[80,80],'Total':[230,260]}\n",
    "df = pd.DataFrame(Marche, columns=['Apple','Banana','Cherry','Total'])\n",
    "df.set_index([['2018','2019']],inplace=True)\n",
    "df"
   ]
  },
  {
   "cell_type": "code",
   "execution_count": 4,
   "metadata": {},
   "outputs": [
    {
     "data": {
      "text/plain": [
       "2018    40\n",
       "2019    27\n",
       "Name: Autres, dtype: int64"
      ]
     },
     "execution_count": 4,
     "metadata": {},
     "output_type": "execute_result"
    }
   ],
   "source": [
    "df['Autres'] =df['Total']-(df['Apple']+df['Banana']+df['Cherry'])\n",
    "df['Autres']"
   ]
  },
  {
   "cell_type": "code",
   "execution_count": 5,
   "metadata": {},
   "outputs": [
    {
     "data": {
      "text/html": [
       "<div>\n",
       "<style scoped>\n",
       "    .dataframe tbody tr th:only-of-type {\n",
       "        vertical-align: middle;\n",
       "    }\n",
       "\n",
       "    .dataframe tbody tr th {\n",
       "        vertical-align: top;\n",
       "    }\n",
       "\n",
       "    .dataframe thead th {\n",
       "        text-align: right;\n",
       "    }\n",
       "</style>\n",
       "<table border=\"1\" class=\"dataframe\">\n",
       "  <thead>\n",
       "    <tr style=\"text-align: right;\">\n",
       "      <th></th>\n",
       "      <th>Apple</th>\n",
       "      <th>Banana</th>\n",
       "      <th>Cherry</th>\n",
       "      <th>Total</th>\n",
       "      <th>Autres</th>\n",
       "      <th>Apple, %</th>\n",
       "      <th>Banana, %</th>\n",
       "      <th>Cherry, %</th>\n",
       "      <th>Autres, %</th>\n",
       "    </tr>\n",
       "  </thead>\n",
       "  <tbody>\n",
       "    <tr>\n",
       "      <th>2018</th>\n",
       "      <td>75</td>\n",
       "      <td>35</td>\n",
       "      <td>80</td>\n",
       "      <td>230</td>\n",
       "      <td>40</td>\n",
       "      <td>32.608696</td>\n",
       "      <td>15.217391</td>\n",
       "      <td>34.782609</td>\n",
       "      <td>17.391304</td>\n",
       "    </tr>\n",
       "    <tr>\n",
       "      <th>2019</th>\n",
       "      <td>110</td>\n",
       "      <td>43</td>\n",
       "      <td>80</td>\n",
       "      <td>260</td>\n",
       "      <td>27</td>\n",
       "      <td>42.307692</td>\n",
       "      <td>16.538462</td>\n",
       "      <td>30.769231</td>\n",
       "      <td>10.384615</td>\n",
       "    </tr>\n",
       "  </tbody>\n",
       "</table>\n",
       "</div>"
      ],
      "text/plain": [
       "      Apple  Banana  Cherry  Total  Autres   Apple, %  Banana, %  Cherry, %  \\\n",
       "2018     75      35      80    230      40  32.608696  15.217391  34.782609   \n",
       "2019    110      43      80    260      27  42.307692  16.538462  30.769231   \n",
       "\n",
       "      Autres, %  \n",
       "2018  17.391304  \n",
       "2019  10.384615  "
      ]
     },
     "execution_count": 5,
     "metadata": {},
     "output_type": "execute_result"
    }
   ],
   "source": [
    "df['Apple, %']=100*df['Apple']/df['Total']\n",
    "df['Banana, %']=100*df['Banana']/df['Total']\n",
    "df['Cherry, %']=100*df['Cherry']/df['Total']\n",
    "df['Autres, %'] =100*df['Autres']/df['Total']\n",
    "df"
   ]
  },
  {
   "cell_type": "code",
   "execution_count": 6,
   "metadata": {},
   "outputs": [
    {
     "data": {
      "text/html": [
       "<div>\n",
       "<style scoped>\n",
       "    .dataframe tbody tr th:only-of-type {\n",
       "        vertical-align: middle;\n",
       "    }\n",
       "\n",
       "    .dataframe tbody tr th {\n",
       "        vertical-align: top;\n",
       "    }\n",
       "\n",
       "    .dataframe thead th {\n",
       "        text-align: right;\n",
       "    }\n",
       "</style>\n",
       "<table border=\"1\" class=\"dataframe\">\n",
       "  <thead>\n",
       "    <tr style=\"text-align: right;\">\n",
       "      <th></th>\n",
       "      <th>Apple</th>\n",
       "      <th>Banana</th>\n",
       "      <th>Cherry</th>\n",
       "      <th>Autres</th>\n",
       "    </tr>\n",
       "  </thead>\n",
       "  <tbody>\n",
       "    <tr>\n",
       "      <th>2018</th>\n",
       "      <td>32.608696</td>\n",
       "      <td>15.217391</td>\n",
       "      <td>34.782609</td>\n",
       "      <td>17.391304</td>\n",
       "    </tr>\n",
       "    <tr>\n",
       "      <th>2019</th>\n",
       "      <td>42.307692</td>\n",
       "      <td>16.538462</td>\n",
       "      <td>30.769231</td>\n",
       "      <td>10.384615</td>\n",
       "    </tr>\n",
       "  </tbody>\n",
       "</table>\n",
       "</div>"
      ],
      "text/plain": [
       "          Apple     Banana     Cherry     Autres\n",
       "2018  32.608696  15.217391  34.782609  17.391304\n",
       "2019  42.307692  16.538462  30.769231  10.384615"
      ]
     },
     "execution_count": 6,
     "metadata": {},
     "output_type": "execute_result"
    }
   ],
   "source": [
    "df_perc=df[['Apple, %','Banana, %','Cherry, %','Autres, %']]\n",
    "#df_perc.rename(columns={\"Apple, %\":\"Apple\",\"Banana, %\":\"Banana\",\"Cherry, %\":\"Cherry\", inplace=True}\n",
    "df_perc.columns = [\"Apple\",\"Banana\",\"Cherry\",\"Autres\"]\n",
    "df_perc"
   ]
  },
  {
   "cell_type": "code",
   "execution_count": 7,
   "metadata": {},
   "outputs": [
    {
     "data": {
      "text/plain": [
       "2018    100.0\n",
       "2019    100.0\n",
       "dtype: float64"
      ]
     },
     "execution_count": 7,
     "metadata": {},
     "output_type": "execute_result"
    }
   ],
   "source": [
    "df_perc.sum(axis=1)"
   ]
  },
  {
   "cell_type": "code",
   "execution_count": 8,
   "metadata": {},
   "outputs": [
    {
     "name": "stdout",
     "output_type": "stream",
     "text": [
      "Matplotlib version:  3.0.2\n"
     ]
    }
   ],
   "source": [
    "# use the inline backend to generate the plots within the browser\n",
    "%matplotlib inline \n",
    "\n",
    "import matplotlib as mpl\n",
    "import matplotlib.pyplot as plt\n",
    "\n",
    "mpl.style.use('ggplot') # optional: for ggplot-like style\n",
    "\n",
    "# check for latest version of Matplotlib\n",
    "print ('Matplotlib version: ', mpl.__version__) # >= 2.0.0"
   ]
  },
  {
   "cell_type": "code",
   "execution_count": 9,
   "metadata": {},
   "outputs": [
    {
     "data": {
      "image/png": "[encoded data removed]",
      "text/plain": [
       "<Figure size 720x432 with 1 Axes>"
      ]
     },
     "metadata": {
      "needs_background": "light"
     },
     "output_type": "display_data"
    }
   ],
   "source": [
    "# step 2: plot data\n",
    "df_perc.plot(kind='bar', figsize=(10, 6))\n",
    "\n",
    "plt.xlabel('Année') # add to x-label to the plot\n",
    "plt.ylabel('Pourcentage') # add y-label to the plot\n",
    "plt.title('Evolution des parts de marchés entre 2018 et 2019') # add title to the plot\n",
    "\n",
    "plt.savefig('Evolution des parts de marchés entre 2018 et 2019.jpg', dpi=300)\n",
    "plt.show()"
   ]
  },
  {
   "cell_type": "code",
   "execution_count": 10,
   "metadata": {},
   "outputs": [
    {
     "data": {
      "text/html": [
       "<div>\n",
       "<style scoped>\n",
       "    .dataframe tbody tr th:only-of-type {\n",
       "        vertical-align: middle;\n",
       "    }\n",
       "\n",
       "    .dataframe tbody tr th {\n",
       "        vertical-align: top;\n",
       "    }\n",
       "\n",
       "    .dataframe thead th {\n",
       "        text-align: right;\n",
       "    }\n",
       "</style>\n",
       "<table border=\"1\" class=\"dataframe\">\n",
       "  <thead>\n",
       "    <tr style=\"text-align: right;\">\n",
       "      <th></th>\n",
       "      <th>Apple</th>\n",
       "      <th>Banana</th>\n",
       "      <th>Cherry</th>\n",
       "      <th>Autres</th>\n",
       "    </tr>\n",
       "  </thead>\n",
       "  <tbody>\n",
       "    <tr>\n",
       "      <th>2019</th>\n",
       "      <td>42.307692</td>\n",
       "      <td>16.538462</td>\n",
       "      <td>30.769231</td>\n",
       "      <td>10.384615</td>\n",
       "    </tr>\n",
       "  </tbody>\n",
       "</table>\n",
       "</div>"
      ],
      "text/plain": [
       "          Apple     Banana     Cherry     Autres\n",
       "2019  42.307692  16.538462  30.769231  10.384615"
      ]
     },
     "execution_count": 10,
     "metadata": {},
     "output_type": "execute_result"
    }
   ],
   "source": [
    "df_perc_2019 = df_perc.loc[['2019']]\n",
    "df_perc_2019"
   ]
  },
  {
   "cell_type": "code",
   "execution_count": 11,
   "metadata": {},
   "outputs": [
    {
     "data": {
      "image/png": "[encoded data removed]",
      "text/plain": [
       "<Figure size 720x432 with 1 Axes>"
      ]
     },
     "metadata": {
      "needs_background": "light"
     },
     "output_type": "display_data"
    }
   ],
   "source": [
    "df_perc_2019.plot(kind='bar', figsize=(10, 6))\n",
    "\n",
    "#plt.xlabel('Année') # add to x-label to the plot\n",
    "plt.ylabel('Pourcentage, %') # add y-label to the plot\n",
    "plt.title('Parts de marchés des sociétés Apple, Banana, Cherry en 2019') # add title to the plot\n",
    "\n",
    "plt.savefig('Parts de marchés des sociétés Apple, Banana, Cherry en 2019.jpg', dpi=300)\n",
    "\n",
    "plt.show()"
   ]
  },
  {
   "cell_type": "code",
   "execution_count": 12,
   "metadata": {},
   "outputs": [
    {
     "data": {
      "text/plain": [
       "100.0"
      ]
     },
     "execution_count": 12,
     "metadata": {},
     "output_type": "execute_result"
    }
   ],
   "source": [
    "df_perc['Apple'][0]+df_perc['Banana'][0]+df_perc['Cherry'][0]+df_perc['Autres'][0]"
   ]
  },
  {
   "cell_type": "code",
   "execution_count": 13,
   "metadata": {},
   "outputs": [
    {
     "data": {
      "text/plain": [
       "100.0"
      ]
     },
     "execution_count": 13,
     "metadata": {},
     "output_type": "execute_result"
    }
   ],
   "source": [
    "df_perc['Apple'][1]+df_perc['Banana'][1]+df_perc['Cherry'][1]+df_perc['Autres'][1]"
   ]
  },
  {
   "cell_type": "code",
   "execution_count": 14,
   "metadata": {},
   "outputs": [
    {
     "data": {
      "image/png": "[encoded data removed]",
      "text/plain": [
       "<Figure size 662.4x360 with 1 Axes>"
      ]
     },
     "metadata": {
      "needs_background": "light"
     },
     "output_type": "display_data"
    }
   ],
   "source": [
    "import matplotlib.pyplot as plt\n",
    "\n",
    "\n",
    "category_names = ['Apple', 'Banana', 'Cherry','Autres']\n",
    "results = {\n",
    "    '2018': [df_perc['Apple'][0], df_perc['Banana'][0], df_perc['Cherry'][0],df_perc['Autres'][0]],\n",
    "    '2019': [df_perc['Apple'][1], df_perc['Banana'][1], df_perc['Cherry'][1],df_perc['Autres'][1]]\n",
    "}\n",
    "\n",
    "\n",
    "def survey(results, category_names):\n",
    "    \"\"\"\n",
    "    Parameters\n",
    "    ----------\n",
    "    results : dict\n",
    "        A mapping from question labels to a list of answers per category.\n",
    "        It is assumed all lists contain the same number of entries and that\n",
    "        it matches the length of *category_names*.\n",
    "    category_names : list of str\n",
    "        The category labels.\n",
    "    \"\"\"\n",
    "    labels = list(results.keys())\n",
    "    data = np.array(list(results.values()))\n",
    "    data_cum = data.cumsum(axis=1)\n",
    "    category_colors = plt.get_cmap('magma')(#('RdYlGn')(\n",
    "        np.linspace(0.15, 0.85, data.shape[1]))\n",
    "\n",
    "    fig, ax = plt.subplots(figsize=(9.2, 5))\n",
    "    ax.invert_yaxis()\n",
    "    ax.xaxis.set_visible(False)\n",
    "    ax.set_xlim(0, np.sum(data, axis=1).max())\n",
    "\n",
    "    for i, (colname, color) in enumerate(zip(category_names, category_colors)):\n",
    "        widths = data[:, i]\n",
    "        starts = data_cum[:, i] - widths\n",
    "        ax.barh(labels, widths, left=starts, height=0.5,\n",
    "                label=colname, color=color)\n",
    "        xcenters = starts + widths / 2\n",
    "\n",
    "        r, g, b, _ = color\n",
    "        text_color = 'white' if r * g * b < 0.5 else 'darkgrey'\n",
    "        for y, (x, c) in enumerate(zip(xcenters, widths)):\n",
    "            ax.text(x, y, str(int(c))+\"%\", ha='center', va='center',\n",
    "                    color=text_color)\n",
    "    ax.legend(ncol=len(category_names), bbox_to_anchor=(0, 1),\n",
    "              loc='lower left', fontsize='large')\n",
    "\n",
    "    return fig, ax\n",
    "\n",
    "\n",
    "survey(results, category_names)\n",
    "\n",
    "plt.savefig('Parts de marchés des sociétés Apple, Banana, Cherry en 2018 et 2019.jpg', dpi=300)\n",
    "plt.show()"
   ]
  },
  {
   "cell_type": "code",
   "execution_count": 15,
   "metadata": {},
   "outputs": [
    {
     "data": {
      "text/plain": [
       "[42.30769230769231, 16.53846153846154, 30.76923076923077, 10.384615384615385]"
      ]
     },
     "execution_count": 15,
     "metadata": {},
     "output_type": "execute_result"
    }
   ],
   "source": [
    "res1=list(results.get('2019'))\n",
    "res1"
   ]
  },
  {
   "cell_type": "code",
   "execution_count": 16,
   "metadata": {},
   "outputs": [
    {
     "data": {
      "image/png": "[encoded data removed]",
      "text/plain": [
       "<Figure size 662.4x360 with 1 Axes>"
      ]
     },
     "metadata": {
      "needs_background": "light"
     },
     "output_type": "display_data"
    }
   ],
   "source": [
    "results1 = {\n",
    "    '2019': [df_perc['Apple'][1], df_perc['Banana'][1], df_perc['Cherry'][1], df_perc['Autres'][1]]\n",
    "}\n",
    "\n",
    "\n",
    "survey(results1, category_names)\n",
    "plt.savefig('Parts de marchés des sociétés Apple, Banana, Cherry en 2019.jpg', dpi=300)\n",
    "plt.show()"
   ]
  },
  {
   "cell_type": "code",
   "execution_count": 17,
   "metadata": {},
   "outputs": [
    {
     "name": "stdout",
     "output_type": "stream",
     "text": [
      "2018 [32.608695652173914, 15.217391304347826, 34.78260869565217, 17.391304347826086]\n",
      "2019 [42.30769230769231, 16.53846153846154, 30.76923076923077, 10.384615384615385]\n"
     ]
    }
   ],
   "source": [
    "for (key, value) in results.items():\n",
    "    print (key, value)"
   ]
  },
  {
   "cell_type": "code",
   "execution_count": 18,
   "metadata": {},
   "outputs": [
    {
     "data": {
      "text/html": [
       "<div>\n",
       "<style scoped>\n",
       "    .dataframe tbody tr th:only-of-type {\n",
       "        vertical-align: middle;\n",
       "    }\n",
       "\n",
       "    .dataframe tbody tr th {\n",
       "        vertical-align: top;\n",
       "    }\n",
       "\n",
       "    .dataframe thead th {\n",
       "        text-align: right;\n",
       "    }\n",
       "</style>\n",
       "<table border=\"1\" class=\"dataframe\">\n",
       "  <thead>\n",
       "    <tr style=\"text-align: right;\">\n",
       "      <th></th>\n",
       "      <th>Apple</th>\n",
       "      <th>Banana</th>\n",
       "      <th>Cherry</th>\n",
       "      <th>Total</th>\n",
       "      <th>Autres</th>\n",
       "      <th>Apple, %</th>\n",
       "      <th>Banana, %</th>\n",
       "      <th>Cherry, %</th>\n",
       "      <th>Autres, %</th>\n",
       "      <th>Apple, Diff</th>\n",
       "      <th>Banana, Diff</th>\n",
       "      <th>Cherry, Diff</th>\n",
       "      <th>Autres, Diff</th>\n",
       "    </tr>\n",
       "  </thead>\n",
       "  <tbody>\n",
       "    <tr>\n",
       "      <th>2018</th>\n",
       "      <td>75</td>\n",
       "      <td>35</td>\n",
       "      <td>80</td>\n",
       "      <td>230</td>\n",
       "      <td>40</td>\n",
       "      <td>32.608696</td>\n",
       "      <td>15.217391</td>\n",
       "      <td>34.782609</td>\n",
       "      <td>17.391304</td>\n",
       "      <td>46.666667</td>\n",
       "      <td>22.857143</td>\n",
       "      <td>0.0</td>\n",
       "      <td>-32.5</td>\n",
       "    </tr>\n",
       "    <tr>\n",
       "      <th>2019</th>\n",
       "      <td>110</td>\n",
       "      <td>43</td>\n",
       "      <td>80</td>\n",
       "      <td>260</td>\n",
       "      <td>27</td>\n",
       "      <td>42.307692</td>\n",
       "      <td>16.538462</td>\n",
       "      <td>30.769231</td>\n",
       "      <td>10.384615</td>\n",
       "      <td>46.666667</td>\n",
       "      <td>22.857143</td>\n",
       "      <td>0.0</td>\n",
       "      <td>-32.5</td>\n",
       "    </tr>\n",
       "  </tbody>\n",
       "</table>\n",
       "</div>"
      ],
      "text/plain": [
       "      Apple  Banana  Cherry  Total  Autres   Apple, %  Banana, %  Cherry, %  \\\n",
       "2018     75      35      80    230      40  32.608696  15.217391  34.782609   \n",
       "2019    110      43      80    260      27  42.307692  16.538462  30.769231   \n",
       "\n",
       "      Autres, %  Apple, Diff  Banana, Diff  Cherry, Diff  Autres, Diff  \n",
       "2018  17.391304    46.666667     22.857143           0.0         -32.5  \n",
       "2019  10.384615    46.666667     22.857143           0.0         -32.5  "
      ]
     },
     "execution_count": 18,
     "metadata": {},
     "output_type": "execute_result"
    }
   ],
   "source": [
    "df['Apple, Diff']=100*(df['Apple'][1]-df['Apple'][0])/df['Apple'][0]\n",
    "df['Banana, Diff']=100*(df['Banana'][1]-df['Banana'][0])/df['Banana'][0]\n",
    "df['Cherry, Diff']=100*(df['Cherry'][1]-df['Cherry'][0])/df['Cherry'][0]\n",
    "df['Autres, Diff']=100*(df['Autres'][1]-df['Autres'][0])/df['Autres'][0]\n",
    "df"
   ]
  },
  {
   "cell_type": "code",
   "execution_count": 19,
   "metadata": {},
   "outputs": [
    {
     "data": {
      "text/html": [
       "<div>\n",
       "<style scoped>\n",
       "    .dataframe tbody tr th:only-of-type {\n",
       "        vertical-align: middle;\n",
       "    }\n",
       "\n",
       "    .dataframe tbody tr th {\n",
       "        vertical-align: top;\n",
       "    }\n",
       "\n",
       "    .dataframe thead th {\n",
       "        text-align: right;\n",
       "    }\n",
       "</style>\n",
       "<table border=\"1\" class=\"dataframe\">\n",
       "  <thead>\n",
       "    <tr style=\"text-align: right;\">\n",
       "      <th></th>\n",
       "      <th>Apple, Diff</th>\n",
       "      <th>Banana, Diff</th>\n",
       "      <th>Cherry, Diff</th>\n",
       "      <th>Autres, Diff</th>\n",
       "    </tr>\n",
       "  </thead>\n",
       "  <tbody>\n",
       "    <tr>\n",
       "      <th>2019</th>\n",
       "      <td>46.666667</td>\n",
       "      <td>22.857143</td>\n",
       "      <td>0.0</td>\n",
       "      <td>-32.5</td>\n",
       "    </tr>\n",
       "  </tbody>\n",
       "</table>\n",
       "</div>"
      ],
      "text/plain": [
       "      Apple, Diff  Banana, Diff  Cherry, Diff  Autres, Diff\n",
       "2019    46.666667     22.857143           0.0         -32.5"
      ]
     },
     "execution_count": 19,
     "metadata": {},
     "output_type": "execute_result"
    }
   ],
   "source": [
    "df_diff=df[['Apple, Diff','Banana, Diff','Cherry, Diff','Autres, Diff']].loc[['2019']]\n",
    "df_diff"
   ]
  },
  {
   "cell_type": "code",
   "execution_count": 20,
   "metadata": {},
   "outputs": [
    {
     "data": {
      "image/png": "[encoded data removed]",
      "text/plain": [
       "<Figure size 720x432 with 1 Axes>"
      ]
     },
     "metadata": {
      "needs_background": "light"
     },
     "output_type": "display_data"
    }
   ],
   "source": [
    "# step 2: plot data\n",
    "df_diff.plot(kind='bar', figsize=(10, 6))\n",
    "\n",
    "#plt.xlabel('') # add to x-label to the plot\n",
    "plt.ylabel('Pourcentage') # add y-label to the plot\n",
    "plt.title('Evolution des parts de marchés entre 2018 et 2019') # add title to the plot\n",
    "\n",
    "plt.savefig('Evolution des parts de marchés entre 2018 et 2019 ver2.jpg', dpi=300)\n",
    "plt.show()"
   ]
  },
  {
   "cell_type": "code",
   "execution_count": 21,
   "metadata": {},
   "outputs": [
    {
     "data": {
      "text/plain": [
       "Apple, Diff     46.666667\n",
       "Banana, Diff    22.857143\n",
       "Cherry, Diff     0.000000\n",
       "Autres, Diff   -32.500000\n",
       "Name: 2019, dtype: float64"
      ]
     },
     "execution_count": 21,
     "metadata": {},
     "output_type": "execute_result"
    }
   ],
   "source": [
    "df_diff.iloc[0]"
   ]
  },
  {
   "cell_type": "code",
   "execution_count": 32,
   "metadata": {},
   "outputs": [
    {
     "data": {
      "image/png": "[encoded data removed]",
      "text/plain": [
       "<Figure size 1008x576 with 1 Axes>"
      ]
     },
     "metadata": {
      "needs_background": "light"
     },
     "output_type": "display_data"
    }
   ],
   "source": [
    "labels = ['Apple', 'Banana', 'Cherry', 'Autres']\n",
    "vals = df_diff.iloc[0]\n",
    "\n",
    "# the label locations\n",
    "x = np.arange(0,4,1) #len(labels))  \n",
    "# the width of the bars\n",
    "width = 0.8  \n",
    "\n",
    "fig, ax = plt.subplots(figsize=(14, 8))\n",
    "\n",
    "rects1 = ax.bar(x, vals, width)\n",
    "\n",
    "for item in ([ax.title, ax.xaxis.label, ax.yaxis.label] +\n",
    "             ax.get_xticklabels() + ax.get_yticklabels()):\n",
    "    item.set_fontsize(16)\n",
    "\n",
    "# Add some text for labels, title and custom x-axis tick labels, etc.\n",
    "ax.set_ylabel('')\n",
    "ax.set_title('Evolution des parts de marché entre 2018 et 2019')\n",
    "ax.set_xticks(x)\n",
    "ax.set_xticklabels(labels)\n",
    "#ax.legend()\n",
    "\n",
    "ax.get_children()[0].set_color('r') \n",
    "ax.get_children()[1].set_color('b') \n",
    "#ax.get_children()[2].set_color('g') \n",
    "ax.get_children()[3].set_color('g') \n",
    "\n",
    "def autolabel(rects):\n",
    "    \"\"\"Attach a text label above each bar in *rects*, displaying its height.\"\"\"\n",
    "    for rect in rects:\n",
    "        height = rect.get_height()\n",
    "        if (height>0):\n",
    "            #ax.annotate('{:.2f}'.format(height),\n",
    "                        #xy=(rect.get_x() + rect.get_width() / 2, height),\n",
    "                        #xytext=(0, 3),  # 3 points vertical offset\n",
    "                        #textcoords=\"offset points\",\n",
    "                        #ha='center', va='bottom')\n",
    "            ax.text(rect.get_x() + rect.get_width() / 2, height+0.4, '{:.2f}'.format(height),\n",
    "                        horizontalalignment='center',fontsize=16)\n",
    "        else:\n",
    "              #ax.annotate('{:.2f}'.format(height),\n",
    "                        #xy=(rect.get_x() + rect.get_width() / 2, height),\n",
    "                        #xytext=(0, -14),  # 3 points vertical offset\n",
    "                        #textcoords=\"offset points\",\n",
    "                        #ha='center', va='bottom')\n",
    "            ax.text(rect.get_x() + rect.get_width() / 2, height-2.05, '{:.2f}'.format(height),\n",
    "                        horizontalalignment='center',fontsize=16)\n",
    "         \n",
    "\n",
    "\n",
    "autolabel(rects1)\n",
    "\n",
    "fig.tight_layout()\n",
    "\n",
    "plt.savefig('Evolution des parts de marchés entre 2018 et 2019 ver3.jpg', dpi=300)\n",
    "\n",
    "plt.show()"
   ]
  },
  {
   "cell_type": "code",
   "execution_count": null,
   "metadata": {},
   "outputs": [],
   "source": []
  }
 ],
 "metadata": {
  "kernelspec": {
   "display_name": "Python 3",
   "language": "python",
   "name": "python3"
  },
  "language_info": {
   "codemirror_mode": {
    "name": "ipython",
    "version": 3
   },
   "file_extension": ".py",
   "mimetype": "text/x-python",
   "name": "python",
   "nbconvert_exporter": "python",
   "pygments_lexer": "ipython3",
   "version": "3.7.1"
  }
 },
 "nbformat": 4,
 "nbformat_minor": 2
}
