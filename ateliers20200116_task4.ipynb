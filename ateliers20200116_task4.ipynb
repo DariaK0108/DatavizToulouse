{
 "cells": [
  {
   "cell_type": "markdown",
   "metadata": {},
   "source": [
    "# Exercice 4 : Nouveaux clients"
   ]
  },
  {
   "cell_type": "markdown",
   "metadata": {},
   "source": [
    "## A- Améliorer la présentation de la table\n",
    "et\n",
    "## B- Comparer la distribution des clients par niveau avec la distribution du chiffre d'affaire en utilisant une table"
   ]
  },
  {
   "cell_type": "code",
   "execution_count": 1,
   "metadata": {},
   "outputs": [],
   "source": [
    "import pandas as pd\n",
    "import numpy as np"
   ]
  },
  {
   "cell_type": "code",
   "execution_count": 2,
   "metadata": {},
   "outputs": [
    {
     "data": {
      "text/html": [
       "<div>\n",
       "<style scoped>\n",
       "    .dataframe tbody tr th:only-of-type {\n",
       "        vertical-align: middle;\n",
       "    }\n",
       "\n",
       "    .dataframe tbody tr th {\n",
       "        vertical-align: top;\n",
       "    }\n",
       "\n",
       "    .dataframe thead th {\n",
       "        text-align: right;\n",
       "    }\n",
       "</style>\n",
       "<table border=\"1\" class=\"dataframe\">\n",
       "  <thead>\n",
       "    <tr style=\"text-align: right;\">\n",
       "      <th></th>\n",
       "      <th># clients</th>\n",
       "      <th>% clients</th>\n",
       "      <th>CA M€</th>\n",
       "      <th>CA %</th>\n",
       "    </tr>\n",
       "  </thead>\n",
       "  <tbody>\n",
       "    <tr>\n",
       "      <th>A</th>\n",
       "      <td>77</td>\n",
       "      <td>8.72</td>\n",
       "      <td>4.68</td>\n",
       "      <td>26.34</td>\n",
       "    </tr>\n",
       "    <tr>\n",
       "      <th>A+</th>\n",
       "      <td>19</td>\n",
       "      <td>2.15</td>\n",
       "      <td>3.93</td>\n",
       "      <td>22.12</td>\n",
       "    </tr>\n",
       "    <tr>\n",
       "      <th>B</th>\n",
       "      <td>338</td>\n",
       "      <td>38.28</td>\n",
       "      <td>5.98</td>\n",
       "      <td>33.65</td>\n",
       "    </tr>\n",
       "    <tr>\n",
       "      <th>C</th>\n",
       "      <td>425</td>\n",
       "      <td>48.13</td>\n",
       "      <td>2.81</td>\n",
       "      <td>15.81</td>\n",
       "    </tr>\n",
       "    <tr>\n",
       "      <th>D</th>\n",
       "      <td>24</td>\n",
       "      <td>2.72</td>\n",
       "      <td>0.37</td>\n",
       "      <td>2.08</td>\n",
       "    </tr>\n",
       "  </tbody>\n",
       "</table>\n",
       "</div>"
      ],
      "text/plain": [
       "    # clients  % clients  CA M€   CA %\n",
       "A          77       8.72   4.68  26.34\n",
       "A+         19       2.15   3.93  22.12\n",
       "B         338      38.28   5.98  33.65\n",
       "C         425      48.13   2.81  15.81\n",
       "D          24       2.72   0.37   2.08"
      ]
     },
     "execution_count": 2,
     "metadata": {},
     "output_type": "execute_result"
    }
   ],
   "source": [
    "ClientsDistr = {'# clients':[77,19,338,425,24], '% clients':[8.72,2.15,38.28,48.13,2.72], \n",
    "                'CA M€': [4.68,3.93,5.98,2.81,0.37], 'CA %':[26.34,22.12,33.65,15.81,2.08]}\n",
    "df = pd.DataFrame(ClientsDistr, columns=['# clients','% clients','CA M€','CA %'])\n",
    "df.set_index([['A','A+','B','C','D']],inplace=True)\n",
    "df\n",
    "\n",
    "\n"
   ]
  },
  {
   "cell_type": "code",
   "execution_count": 3,
   "metadata": {},
   "outputs": [
    {
     "data": {
      "text/html": [
       "<div>\n",
       "<style scoped>\n",
       "    .dataframe tbody tr th:only-of-type {\n",
       "        vertical-align: middle;\n",
       "    }\n",
       "\n",
       "    .dataframe tbody tr th {\n",
       "        vertical-align: top;\n",
       "    }\n",
       "\n",
       "    .dataframe thead th {\n",
       "        text-align: right;\n",
       "    }\n",
       "</style>\n",
       "<table border=\"1\" class=\"dataframe\">\n",
       "  <thead>\n",
       "    <tr style=\"text-align: right;\">\n",
       "      <th></th>\n",
       "      <th>A+</th>\n",
       "      <th>A</th>\n",
       "      <th>B</th>\n",
       "      <th>C</th>\n",
       "      <th>D</th>\n",
       "    </tr>\n",
       "  </thead>\n",
       "  <tbody>\n",
       "    <tr>\n",
       "      <th># clients</th>\n",
       "      <td>19.00</td>\n",
       "      <td>77.00</td>\n",
       "      <td>338.00</td>\n",
       "      <td>425.00</td>\n",
       "      <td>24.00</td>\n",
       "    </tr>\n",
       "    <tr>\n",
       "      <th>CA M€</th>\n",
       "      <td>3.93</td>\n",
       "      <td>4.68</td>\n",
       "      <td>5.98</td>\n",
       "      <td>2.81</td>\n",
       "      <td>0.37</td>\n",
       "    </tr>\n",
       "    <tr>\n",
       "      <th>% clients</th>\n",
       "      <td>2.15</td>\n",
       "      <td>8.72</td>\n",
       "      <td>38.28</td>\n",
       "      <td>48.13</td>\n",
       "      <td>2.72</td>\n",
       "    </tr>\n",
       "    <tr>\n",
       "      <th>CA %</th>\n",
       "      <td>22.12</td>\n",
       "      <td>26.34</td>\n",
       "      <td>33.65</td>\n",
       "      <td>15.81</td>\n",
       "      <td>2.08</td>\n",
       "    </tr>\n",
       "  </tbody>\n",
       "</table>\n",
       "</div>"
      ],
      "text/plain": [
       "              A+      A       B       C      D\n",
       "# clients  19.00  77.00  338.00  425.00  24.00\n",
       "CA M€       3.93   4.68    5.98    2.81   0.37\n",
       "% clients   2.15   8.72   38.28   48.13   2.72\n",
       "CA %       22.12  26.34   33.65   15.81   2.08"
      ]
     },
     "execution_count": 3,
     "metadata": {},
     "output_type": "execute_result"
    }
   ],
   "source": [
    "dfPresent = df.loc[['A+','A','B','C','D']]\n",
    "dfPresent = dfPresent.transpose()\n",
    "dfPresent = dfPresent.loc[['# clients','CA M€','% clients','CA %']]\n",
    "dfPresent"
   ]
  },
  {
   "cell_type": "markdown",
   "metadata": {},
   "source": [
    "## C- Comparer la distribution des clients par niveau avec la distribution du chiffre d'affaire en utilisant ce que vous voulez (graphe, courbes, ...)"
   ]
  },
  {
   "cell_type": "code",
   "execution_count": 4,
   "metadata": {},
   "outputs": [
    {
     "data": {
      "text/plain": [
       "<Figure size 920x500 with 1 Axes>"
      ]
     },
     "metadata": {},
     "output_type": "display_data"
    }
   ],
   "source": [
    "import matplotlib.pyplot as plt\n",
    "ClientsDistr = {'% clients':[8.72,2.15,38.28,48.13,2.72], 'CA %':[26.34,22.12,33.65,15.81,2.08]}\n",
    "df = pd.DataFrame(ClientsDistr, columns=['% clients','CA %'])\n",
    "df.set_index([['A','A+','B','C','D']],inplace=True)\n",
    "\n",
    "df = df.loc[['A+','A','B','C','D']]\n",
    "\n",
    "\n",
    "\n",
    "\n",
    "category_names = ['A+','A','B','C','D']\n",
    "results = {\n",
    "    '% clients': [2.15,8.72,38.28,48.13,2.72],\n",
    "    'CA %': [22.12,26.34,33.65,15.81,2.08]\n",
    "}\n",
    "\n",
    "def survey(results, category_names):\n",
    "    \"\"\"\n",
    "    Parameters\n",
    "    ----------\n",
    "    results : dict\n",
    "        A mapping from question labels to a list of answers per category.\n",
    "        It is assumed all lists contain the same number of entries and that\n",
    "        it matches the length of *category_names*.\n",
    "    category_names : list of str\n",
    "        The category labels.\n",
    "    \"\"\"\n",
    "    labels = list(results.keys())\n",
    "    data = np.array(list(results.values()))\n",
    "    data_cum = data.cumsum(axis=1)\n",
    "    category_colors = plt.get_cmap('magma')(#('RdYlGn')(\n",
    "        np.linspace(0.15, 0.85, data.shape[1]))\n",
    "\n",
    "    fig, ax = plt.subplots(figsize=(9.2, 5))\n",
    "    ax.invert_yaxis()\n",
    "    ax.xaxis.set_visible(False)\n",
    "    ax.set_xlim(0, np.sum(data, axis=1).max())\n",
    "\n",
    "    for i, (colname, color) in enumerate(zip(category_names, category_colors)):\n",
    "        widths = data[:, i]\n",
    "        starts = data_cum[:, i] - widths\n",
    "        ax.barh(labels, widths, left=starts, height=0.5,\n",
    "                label=colname, color=color)\n",
    "        xcenters = starts + widths / 2\n",
    "\n",
    "        r, g, b, _ = color\n",
    "        text_color = 'white' if r * g * b < 0.5 else 'darkgrey'\n",
    "        for y, (x, c) in enumerate(zip(xcenters, widths)):\n",
    "            ax.text(x, y, str(int(c))+\"%\", ha='center', va='center',\n",
    "                    color=text_color)\n",
    "    ax.legend(ncol=len(category_names), bbox_to_anchor=(0, 1),\n",
    "              loc='lower left', fontsize='large')\n",
    "\n",
    "    return fig, ax\n",
    "\n",
    "\n",
    "survey(results, category_names)\n",
    "\n",
    "plt.savefig('Distribution des clients.jpg', dpi=300)\n",
    "\n",
    "plt.show()"
   ]
  },
  {
   "cell_type": "code",
   "execution_count": 36,
   "metadata": {},
   "outputs": [
    {
     "data": {
      "image/png": "[encoded data removed]",
      "text/plain": [
       "<Figure size 720x288 with 1 Axes>"
      ]
     },
     "metadata": {
      "needs_background": "light"
     },
     "output_type": "display_data"
    }
   ],
   "source": [
    "labels = ['A+','A','B','C','D']\n",
    "vals = dfPresent.loc['CA M€']\n",
    "vals2 = dfPresent.loc['# clients']\n",
    "\n",
    "x = np.arange(len(labels))  # the label locations\n",
    "width = 0.7  # the width of the bars\n",
    "\n",
    "fig, ax = plt.subplots(figsize=(10, 4))\n",
    "\n",
    "rects1 = ax.bar(x, vals, width)#, label='Men')\n",
    "\n",
    "# Add some text for labels, title and custom x-axis tick labels, etc.\n",
    "ax.set_ylabel('CA M€', fontsize=16)\n",
    "ax.set_title('CA M€ vs # clients', fontsize=16)\n",
    "ax.set_xticks(x)\n",
    "ax.set_xticklabels(labels, fontsize=16)\n",
    "#ax.legend()\n",
    "\n",
    "for item in ([ax.title, ax.xaxis.label, ax.yaxis.label] +\n",
    "             ax.get_xticklabels() + ax.get_yticklabels()):\n",
    "    item.set_fontsize(16)\n",
    "    \n",
    "def autolabel(rects,nums):\n",
    "    \"\"\"Attach a text label above each bar in *rects*, displaying its height.\"\"\"\n",
    "    for i, rect in enumerate(rects):\n",
    "        height = rect.get_height()\n",
    "        ax.text(rect.get_x() + rect.get_width() / 2, height-0.35, '{:d}'.format(int(nums[i])),\n",
    "                    horizontalalignment='center',fontsize=16)\n",
    "    \n",
    "\n",
    "autolabel(rects1,vals2)\n",
    "\n",
    "fig.tight_layout()\n",
    "\n",
    "plt.savefig('CA Meur vs num clients.jpg', dpi=300)\n",
    "\n",
    "plt.show()"
   ]
  },
  {
   "cell_type": "code",
   "execution_count": null,
   "metadata": {},
   "outputs": [],
   "source": []
  }
 ],
 "metadata": {
  "kernelspec": {
   "display_name": "Python 3",
   "language": "python",
   "name": "python3"
  },
  "language_info": {
   "codemirror_mode": {
    "name": "ipython",
    "version": 3
   },
   "file_extension": ".py",
   "mimetype": "text/x-python",
   "name": "python",
   "nbconvert_exporter": "python",
   "pygments_lexer": "ipython3",
   "version": "3.7.1"
  }
 },
 "nbformat": 4,
 "nbformat_minor": 2
}
